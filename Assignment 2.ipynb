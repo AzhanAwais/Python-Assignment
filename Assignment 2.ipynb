{
 "cells": [
  {
   "cell_type": "code",
   "execution_count": 23,
   "metadata": {},
   "outputs": [
    {
     "name": "stdout",
     "output_type": "stream",
     "text": [
      "Enter marks for english90\n",
      "Enter marks for maths80\n",
      "Enter marks for pst75\n",
      "Enter marks for computer78\n",
      "Enter marks for science85\n",
      "Yoyr percentage is = 81.6 %\n",
      "Your grade = A\n"
     ]
    }
   ],
   "source": [
    "eng=int(input(\"Enter marks for english\"))\n",
    "mat=int(input(\"Enter marks for maths\"))\n",
    "pst=int(input(\"Enter marks for pst\"))\n",
    "comp=int(input(\"Enter marks for computer\"))\n",
    "sci=int(input(\"Enter marks for science\"))\n",
    "\n",
    "per=((eng+mat+pst+comp+sci)/500)*100\n",
    "print(\"Yoyr percentage is = \"+str(per)+\" %\")\n",
    "if per>=85:\n",
    "    print(\"Your grade = A+\")\n",
    "elif per >= 80 and per < 85:\n",
    "    print(\"Your grade = A\")\n",
    "elif per >= 75 and per < 80:\n",
    "    print(\"Your grade = B+\")\n",
    "elif per >= 70 and per < 75:\n",
    "    print(\"Your grade = B\")\n",
    "elif per >= 65 and per < 70:\n",
    "    print(\"Your grade = C+\")\n",
    "elif per >= 60 and per < 65:\n",
    "    print(\"Your grade = C\")\n",
    "elif per >= 55 and per < 60:\n",
    "    print(\"Your grade = D+\")\n",
    "elif per >= 50 and per < 55:\n",
    "    print(\"Your grade = D\")\n",
    "elif per < 50:\n",
    "    print(\"Your grade = F\")\n"
   ]
  },
  {
   "cell_type": "code",
   "execution_count": 6,
   "metadata": {},
   "outputs": [
    {
     "name": "stdout",
     "output_type": "stream",
     "text": [
      "Enter a number : 4\n",
      "Number is even\n"
     ]
    }
   ],
   "source": [
    "num=int(input(\"Enter a number : \"))\n",
    "if num % 2 == 0:\n",
    "    print(\"Number is even\")\n",
    "else:\n",
    "    print(\"Number is odd\")"
   ]
  },
  {
   "cell_type": "code",
   "execution_count": 7,
   "metadata": {},
   "outputs": [],
   "source": [
    "mylist=[\"umair\", \"kakir\" , \"100\" , \"200\"]"
   ]
  },
  {
   "cell_type": "code",
   "execution_count": 26,
   "metadata": {},
   "outputs": [
    {
     "name": "stdout",
     "output_type": "stream",
     "text": [
      "Total number of element in list are : 4\n"
     ]
    }
   ],
   "source": [
    "print(\"Total number of element in list are : \"+str(len(mylist)))"
   ]
  },
  {
   "cell_type": "code",
   "execution_count": 30,
   "metadata": {},
   "outputs": [
    {
     "name": "stdout",
     "output_type": "stream",
     "text": [
      "Sum of all element = 1000\n"
     ]
    }
   ],
   "source": [
    "numlist=[500, 200 , 100 , 200]\n",
    "total=numlist[0]+numlist[1]+numlist[2]+numlist[3]\n",
    "print(\"Sum of all element = \"+str(total))"
   ]
  },
  {
   "cell_type": "code",
   "execution_count": 17,
   "metadata": {},
   "outputs": [
    {
     "name": "stdout",
     "output_type": "stream",
     "text": [
      "The largest number is 1000\n"
     ]
    }
   ],
   "source": [
    "n_list=[500, 600 , 1000]\n",
    "if (n_list[0] > n_list[1]) and (n_list[0] > n_list[2]):\n",
    "    print(\"The largest number is \"+str(n_list[0]))\n",
    "elif (n_list[1] > n_list[0]) and (n_list[1] > n_list[2]):\n",
    "    print(\"The largest number is \"+str(n_list[1]))\n",
    "elif (n_list[2] > n_list[0]) and (n_list[2] > n_list[1]):\n",
    "    print(\"The largest number is \"+str(n_list[2]))\n",
    "\n"
   ]
  },
  {
   "cell_type": "code",
   "execution_count": 21,
   "metadata": {},
   "outputs": [
    {
     "data": {
      "text/plain": [
       "[1, 1, 2, 3]"
      ]
     },
     "execution_count": 21,
     "metadata": {},
     "output_type": "execute_result"
    }
   ],
   "source": [
    "a=[1, 1, 2, 3, 5, 8, 13, 21, 34, 55, 89]\n",
    "a[0:4]"
   ]
  },
  {
   "cell_type": "code",
   "execution_count": null,
   "metadata": {},
   "outputs": [],
   "source": []
  }
 ],
 "metadata": {
  "kernelspec": {
   "display_name": "Python 3",
   "language": "python",
   "name": "python3"
  },
  "language_info": {
   "codemirror_mode": {
    "name": "ipython",
    "version": 3
   },
   "file_extension": ".py",
   "mimetype": "text/x-python",
   "name": "python",
   "nbconvert_exporter": "python",
   "pygments_lexer": "ipython3",
   "version": "3.7.3"
  }
 },
 "nbformat": 4,
 "nbformat_minor": 2
}
