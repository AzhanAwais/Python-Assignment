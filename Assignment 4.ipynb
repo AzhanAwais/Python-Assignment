{
 "cells": [
  {
   "cell_type": "code",
   "execution_count": 1,
   "metadata": {},
   "outputs": [
    {
     "name": "stdout",
     "output_type": "stream",
     "text": [
      "Before adding qualification :  {'firstname': 'Ali', 'lastname': 'Ahmed', 'age': '20', 'city': 'Karachi'}\n",
      "\n",
      "\n",
      "After adding qualification :  {'firstname': 'Ali', 'lastname': 'Ahmed', 'age': '20', 'city': 'Karachi', 'qualification': 'MBA'}\n",
      "\n",
      "\n",
      "After deleting qualification :  {'firstname': 'Ali', 'lastname': 'Ahmed', 'age': '20', 'city': 'Karachi'}\n"
     ]
    }
   ],
   "source": [
    "Person={\n",
    "    \"firstname\":\"Ali\",\n",
    "    \"lastname\":\"Ahmed\",\n",
    "    \"age\":\"20\",\n",
    "    \"city\":\"Karachi\"\n",
    "}\n",
    "print(\"Before adding qualification : \",Person)\n",
    "print(\"\\n\")\n",
    "Person[\"qualification\"]=\"MBA\"\n",
    "print(\"After adding qualification : \",Person)\n",
    "print(\"\\n\")\n",
    "del Person[\"qualification\"]\n",
    "print(\"After deleting qualification : \",Person)\n",
    "\n"
   ]
  },
  {
   "cell_type": "code",
   "execution_count": 2,
   "metadata": {},
   "outputs": [
    {
     "name": "stdout",
     "output_type": "stream",
     "text": [
      "Pakistan\n",
      "14.91 million\n",
      "Karachi is the biggest city of the Pakistan\n",
      "\n",
      "Australia\n",
      "5.23 million\n",
      "Sydney is best known for its harbourfront Sydney Opera House\n",
      "\n",
      "USA\n",
      "8.623 million\n",
      "New York City comprises 5 boroughs sitting where the Hudson River meets the Atlantic Ocean.\n",
      "\n"
     ]
    }
   ],
   "source": [
    "cities={\n",
    "    \"karachi\":{\n",
    "        \"country\":\"Pakistan\" ,\n",
    "        \"population\":\"14.91 million\"  ,\n",
    "        \"fact\":\"Karachi is the biggest city of the Pakistan\"  \n",
    "    },\n",
    "    \"Sydney\":{\n",
    "        \"country\":\"Australia\"  ,\n",
    "        \"population\":\"5.23 million\"   ,\n",
    "        \"fact\":\"Sydney is best known for its harbourfront Sydney Opera House\" \n",
    "    },\n",
    "    \"New York\":{\n",
    "        \"country\":\"USA\"  ,\n",
    "        \"population\":\"8.623 million\"   ,\n",
    "        \"fact\":\"New York City comprises 5 boroughs sitting where the Hudson River meets the Atlantic Ocean.\" \n",
    "    },\n",
    "}\n",
    "\n",
    "for city,info in cities.items():\n",
    "    print (info[\"country\"])\n",
    "    print (info[\"population\"])\n",
    "    print (info[\"fact\"]+\"\\n\")"
   ]
  },
  {
   "cell_type": "code",
   "execution_count": 3,
   "metadata": {},
   "outputs": [
    {
     "name": "stdout",
     "output_type": "stream",
     "text": [
      "Enter your age : 1\n",
      "Your ticket is free\n",
      "If you want yo quit write 'quit' \n",
      "\n",
      "Enter your age : 11\n",
      "Your ticket price is $10\n",
      "If you want yo quit write 'quit' \n",
      "\n",
      "Enter your age : 19\n",
      "Your ticket price is $15\n",
      "If you want yo quit write 'quit' \n",
      "\n",
      "Enter your age : quit\n"
     ]
    }
   ],
   "source": [
    "loop=True\n",
    "while loop:\n",
    "    age=input(\"Enter your age : \")\n",
    "    \n",
    "    if age == \"quit\":\n",
    "        break\n",
    "    age=int(age)\n",
    "   \n",
    "    if age < 3:\n",
    "        print(\"Your ticket is free\")\n",
    "    elif age >= 3 and age <=12:\n",
    "        print(\"Your ticket price is $10\")\n",
    "    else:\n",
    "        print(\"Your ticket price is $15\")\n",
    "    print(\"If you want yo quit write 'quit' \\n\")\n",
    "   "
   ]
  },
  {
   "cell_type": "code",
   "execution_count": 4,
   "metadata": {},
   "outputs": [
    {
     "name": "stdout",
     "output_type": "stream",
     "text": [
      "Enter the title of book : Alice in Wonderland\n",
      "The title of book is : Alice in Wonderland\n"
     ]
    }
   ],
   "source": [
    "def p_title(title):\n",
    "    print(\"The title of book is : \"+title)\n",
    "title=input(\"Enter the title of book : \")\n",
    "p_title(title)"
   ]
  },
  {
   "cell_type": "code",
   "execution_count": 5,
   "metadata": {},
   "outputs": [
    {
     "name": "stdout",
     "output_type": "stream",
     "text": [
      "guess the correct number : 89\n",
      "Your number is greater than guessing number\n",
      "\n",
      "guess the correct number : 13\n",
      "Your number is smaller than guessing number\n",
      "\n",
      "guess the correct number : 6\n",
      "Your number is smaller than guessing number\n",
      "\n",
      "Your chance is over.You have only 3 chance to guess correctly\n"
     ]
    }
   ],
   "source": [
    "from random import randint\n",
    "\n",
    "value = randint(1, 30)\n",
    "\n",
    "count=0\n",
    "\n",
    "while count != 3: \n",
    "    user=int(input(\"guess the correct number : \")) \n",
    "    if user > value: \n",
    "        count = count + 1\n",
    "        print(\"Your number is greater than guessing number\\n\") \n",
    "    elif user < value: \n",
    "        count = count + 1 \n",
    "        print(\"Your number is smaller than guessing number\\n\") \n",
    "    elif user == value: \n",
    "        print(\"You guess correctly\\n\") \n",
    "        break \n",
    "    if count==3 and value!=user:\n",
    "        print(\"Your chance is over.You have only 3 chance to guess correctly\")"
   ]
  },
  {
   "cell_type": "code",
   "execution_count": null,
   "metadata": {},
   "outputs": [],
   "source": []
  }
 ],
 "metadata": {
  "kernelspec": {
   "display_name": "Python 3",
   "language": "python",
   "name": "python3"
  },
  "language_info": {
   "codemirror_mode": {
    "name": "ipython",
    "version": 3
   },
   "file_extension": ".py",
   "mimetype": "text/x-python",
   "name": "python",
   "nbconvert_exporter": "python",
   "pygments_lexer": "ipython3",
   "version": "3.7.3"
  }
 },
 "nbformat": 4,
 "nbformat_minor": 2
}
