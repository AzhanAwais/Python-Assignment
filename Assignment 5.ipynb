{
 "cells": [
  {
   "cell_type": "code",
   "execution_count": 1,
   "metadata": {},
   "outputs": [
    {
     "name": "stdout",
     "output_type": "stream",
     "text": [
      "Enter a number 6\n",
      "factorial =  720\n"
     ]
    }
   ],
   "source": [
    "def fact(num):\n",
    "    if num==1:\n",
    "        return 1\n",
    "    elif num==2:\n",
    "        return num\n",
    "    else:\n",
    "        return num*(fact(num-1))\n",
    "\n",
    "input_=int(input(\"Enter a number \"))\n",
    "print(\"factorial = \",fact(input_))"
   ]
  },
  {
   "cell_type": "code",
   "execution_count": 2,
   "metadata": {},
   "outputs": [
    {
     "name": "stdout",
     "output_type": "stream",
     "text": [
      "Enter a string : \n",
      "ZakirIqbAl\n",
      "Total number of lower case letter =  7\n",
      "Total number of upper case letter =  3\n"
     ]
    }
   ],
   "source": [
    "def Count_Upper_or_Lower(name):\n",
    "    count_upper=0\n",
    "    count_lower=0\n",
    "\n",
    "    for i in name :\n",
    "        if(i>='a' and i<='z'):\n",
    "            count_lower+=1\n",
    "        if(i>='A' and i<='Z'):\n",
    "            count_upper+=1\n",
    "\n",
    "    print(\"Total number of lower case letter = \",count_lower)\n",
    "    print(\"Total number of upper case letter = \",count_upper)\n",
    "\n",
    "name=input(\"Enter a string : \\n\")\n",
    "Count_Upper_or_Lower(name)"
   ]
  },
  {
   "cell_type": "code",
   "execution_count": 3,
   "metadata": {},
   "outputs": [
    {
     "name": "stdout",
     "output_type": "stream",
     "text": [
      "Even number from given list are :\n",
      "2\n",
      "4\n",
      "6\n",
      "8\n"
     ]
    }
   ],
   "source": [
    "list_=[1,2,3,4,5,6,7,8,9]\n",
    "print(\"Even number from given list are :\")\n",
    "for i in list_:\n",
    "    if(i%2==0):\n",
    "        print(i)"
   ]
  },
  {
   "cell_type": "code",
   "execution_count": 4,
   "metadata": {},
   "outputs": [
    {
     "name": "stdout",
     "output_type": "stream",
     "text": [
      "Enter a string : madam\n",
      "String is Plaindrome\n"
     ]
    }
   ],
   "source": [
    "def IsPlaindrome(Input_string):\n",
    "    string=\"\"\n",
    "    mystring=Input_string\n",
    "    for i in Input_string :\n",
    "        string=i+string\n",
    "    final_str = string\n",
    "    if final_str == mystring:\n",
    "        print(\"String is Plaindrome\")\n",
    "    else :\n",
    "        print (\"String is not plaindrome\")\n",
    "\n",
    "Input_string=input(\"Enter a string : \")\n",
    "IsPlaindrome(Input_string)\n"
   ]
  },
  {
   "cell_type": "code",
   "execution_count": 6,
   "metadata": {},
   "outputs": [
    {
     "name": "stdout",
     "output_type": "stream",
     "text": [
      "Enter a number : 5\n",
      "5  is prime number\n"
     ]
    }
   ],
   "source": [
    "def IsPrime(num):\n",
    "    if num == 0 :\n",
    "        print(num , \" is not prime number\")\n",
    "    elif num == 2:\n",
    "        print(num , \" is prime number\")\n",
    "    else:\n",
    "        if num % 2 != 0:\n",
    "            print(num, \" is prime number\")\n",
    "        else:\n",
    "            print(num, \" is not prime number\")\n",
    "\n",
    "num=int(input(\"Enter a number : \"))\n",
    "IsPrime(num)\n"
   ]
  },
  {
   "cell_type": "code",
   "execution_count": 7,
   "metadata": {},
   "outputs": [
    {
     "name": "stdout",
     "output_type": "stream",
     "text": [
      "[('banana', 'mango', 'apple', 'potato', 'milk', 'fish', 'chicken')]\n"
     ]
    }
   ],
   "source": [
    "def shop(* user):\n",
    "    list1=[]\n",
    "    list1.append(user)\n",
    "    print(list1)\n",
    "    \n",
    "shop(\"banana\",\"mango\",\"apple\",\"potato\",\"milk\",\"fish\",\"chicken\")\n"
   ]
  },
  {
   "cell_type": "code",
   "execution_count": null,
   "metadata": {},
   "outputs": [],
   "source": []
  }
 ],
 "metadata": {
  "kernelspec": {
   "display_name": "Python 3",
   "language": "python",
   "name": "python3"
  },
  "language_info": {
   "codemirror_mode": {
    "name": "ipython",
    "version": 3
   },
   "file_extension": ".py",
   "mimetype": "text/x-python",
   "name": "python",
   "nbconvert_exporter": "python",
   "pygments_lexer": "ipython3",
   "version": "3.7.3"
  }
 },
 "nbformat": 4,
 "nbformat_minor": 2
}
