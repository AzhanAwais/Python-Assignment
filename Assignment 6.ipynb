{
 "cells": [
  {
   "cell_type": "code",
   "execution_count": 2,
   "metadata": {},
   "outputs": [
    {
     "name": "stdout",
     "output_type": "stream",
     "text": [
      "OBJECT ORIENTED PROGRAMMING : \n",
      "\n",
      "Object-oriented programming (OOP) refers to a type of computer programming (software design) in which programmers \n",
      "define the data type of a data structure, and also the types of operations (functions) that can be applied\n",
      "to the data structure.\n"
     ]
    }
   ],
   "source": [
    "print(\"OBJECT ORIENTED PROGRAMMING : \\n\")\n",
    "print(\"Object-oriented programming (OOP) refers to a type of computer programming (software design) in which programmers \")\n",
    "print(\"define the data type of a data structure, and also the types of operations (functions) that can be applied\")\n",
    "print(\"to the data structure.\")"
   ]
  },
  {
   "cell_type": "code",
   "execution_count": 10,
   "metadata": {},
   "outputs": [
    {
     "name": "stdout",
     "output_type": "stream",
     "text": [
      "BENEFITS OF OBJECT ORIENTED PROGRAMMING : \n",
      "\n",
      "1. Simplicity: software objects model real world objects, so the complexity is reduced and the program structure is very clear\n",
      "\n",
      "2. Modularity: each object forms a separate entity whose internal workings are decoupled from other parts of the system\n",
      "\n",
      "3. It is easy to make minor changes in the data representation or the procedures in an OO program.\n",
      "   Changes inside a class do not affect any other part of a program, since the only public interface\n",
      "   that the external world has to a class is through the use of methods\n",
      "\n",
      "4. Extensibility: adding new features or responding to changing operating environments can be solved by introducing\n",
      "   a few new objects and modifying some existing ones\n",
      "\n",
      "5.Maintainability: objects can be maintained separately, making locating and fixing problems easier\n",
      "\n",
      "6.Re-usability: objects can be reused in different programs\n"
     ]
    }
   ],
   "source": [
    "print(\"BENEFITS OF OBJECT ORIENTED PROGRAMMING : \\n\")\n",
    "print(\"1. Simplicity: software objects model real world objects, so the complexity is reduced and the program structure is very clear\\n\")\n",
    "print(\"2. Modularity: each object forms a separate entity whose internal workings are decoupled from other parts of the system\\n\")\n",
    "print(\"3. It is easy to make minor changes in the data representation or the procedures in an OO program.\") \n",
    "print(\"   Changes inside a class do not affect any other part of a program, since the only public interface\")\n",
    "print(\"   that the external world has to a class is through the use of methods\\n\")\n",
    "print(\"4. Extensibility: adding new features or responding to changing operating environments can be solved by introducing\")\n",
    "print(\"   a few new objects and modifying some existing ones\\n\")\n",
    "print(\"5.Maintainability: objects can be maintained separately, making locating and fixing problems easier\\n\")\n",
    "print(\"6.Re-usability: objects can be reused in different programs\")\n"
   ]
  },
  {
   "cell_type": "code",
   "execution_count": 24,
   "metadata": {},
   "outputs": [
    {
     "name": "stdout",
     "output_type": "stream",
     "text": [
      "FUNCTIONS :\n",
      "Python function is a sequence of statements that execute in a certain order, given a name.\n",
      "They let us implement code reusability.\n",
      "\n",
      "METHOD :\n",
      "Python method is like a function, except it is attached to an object. We call a method on an object, and it possibly makes changes to that object. A method, then, belongs to a class.\n",
      "\n",
      "COMPARISON B/W FUNCTION AND METHOD : \n",
      "1.Python method is called on an object,and we call Python function quite generically- we don’t call it on any object. Since we\n",
      "  call a method on an object, it can access the data within it.\n",
      "2.A method may alter an object’s state, but Python function usually only operates on it, and then prints something or returns a\n",
      "  value.\n",
      "\n",
      "CONCLUSION :\n",
      "After this discussion, we conclude that there’s a thin line between method and function in python with examples. The only major\n",
      "difference is that we call Python method on an object, but it’s not the same with functions. Also, methods may modify an \n",
      "object; Python functions don’t.\n"
     ]
    }
   ],
   "source": [
    "print(\"FUNCTIONS :\") \n",
    "print(\"Python function is a sequence of statements that execute in a certain order, given a name.\") \n",
    "print(\"They let us implement code reusability.\")  \n",
    "print(\"\\nMETHOD :\") \n",
    "print(\"Python method is like a function, except it is attached to an object. We call a method on an object, and it possibly makes changes to that object. A method, then, belongs to a class.\\n\")\n",
    "print(\"COMPARISON B/W FUNCTION AND METHOD : \")\n",
    "print(\"1.Python method is called on an object,and we call Python function quite generically- we don’t call it on any object. Since we\")\n",
    "print(\"  call a method on an object, it can access the data within it.\") \n",
    "print(\"2.A method may alter an object’s state, but Python function usually only operates on it, and then prints something or returns a\")\n",
    "print(\"  value.\\n\") \n",
    "print(\"CONCLUSION :\")\n",
    "print(\"After this discussion, we conclude that there’s a thin line between method and function in python with examples. The only major\")\n",
    "print(\"difference is that we call Python method on an object, but it’s not the same with functions. Also, methods may modify an \")\n",
    "print(\"object; Python functions don’t.\")"
   ]
  },
  {
   "cell_type": "code",
   "execution_count": 33,
   "metadata": {},
   "outputs": [
    {
     "name": "stdout",
     "output_type": "stream",
     "text": [
      "CLASS :\n",
      "In object-oriented programming, a class is a blueprint for creating objects (a particular data structure), providing initial\n",
      "values for state (member variables or attributes), and implementations of behavior (member functions or methods)\n",
      "The user-defined objects are created using the class keyword. The class is a blueprint that defines a nature of a future\n",
      "object. An instance is a specific object created from a particular class. Classes are used to create and manage new objects and support inheritance—a key ingredient in object-oriented programming and a mechanism of reusing code.\n",
      "\n",
      "OBJECT :\n",
      "An object is nothing but a self-contained component which consists of methods and properties to make a particular type of data useful. Object determines the behavior of the class.\n",
      "When you send a message to an object, you are asking the object to invoke or execute one of its methods.\n",
      "From a programming point of view, an object can be a data structure, a variable or a function. It has a memory location\n",
      "allocated. The object is designed as class hierarchies.\n",
      "\n",
      "ATTRIBUTE : \n",
      "In Object-oriented programming(OOP), classes and objects have attributes. Attributes are data stored inside a class or instance and represent the state or quality of the class or instance. In short, attributes store information about the instance. \n",
      "Also, attributes should not be confused with class methods.\n",
      " \n",
      "BEHAVIOUR : \n",
      "A class's behavior determines how an instance of that class operates; for example, how it will 'react' if asked to do something by another class or object or if its internal state changes.\n",
      "Behavior is the only way objects can do anything to themselves or have anything done to them. \n"
     ]
    }
   ],
   "source": [
    "print(\"CLASS :\")\n",
    "print(\"In object-oriented programming, a class is a blueprint for creating objects (a particular data structure), providing initial\")\n",
    "print(\"values for state (member variables or attributes), and implementations of behavior (member functions or methods)\")\n",
    "print(\"The user-defined objects are created using the class keyword. The class is a blueprint that defines a nature of a future\")\n",
    "print(\"object. An instance is a specific object created from a particular class. Classes are used to create and manage new objects and support inheritance—a key ingredient in object-oriented programming and a mechanism of reusing code.\\n\")\n",
    "\n",
    "print(\"OBJECT :\")\n",
    "print(\"An object is nothing but a self-contained component which consists of methods and properties to make a particular type of data useful. Object determines the behavior of the class.\")\n",
    "print(\"When you send a message to an object, you are asking the object to invoke or execute one of its methods.\")\n",
    "print(\"From a programming point of view, an object can be a data structure, a variable or a function. It has a memory location\")\n",
    "print(\"allocated. The object is designed as class hierarchies.\\n\")\n",
    "\n",
    "print(\"ATTRIBUTE : \")\n",
    "print(\"In Object-oriented programming(OOP), classes and objects have attributes. Attributes are data stored inside a class or instance and represent the state or quality of the class or instance. In short, attributes store information about the instance. \")\n",
    "print(\"Also, attributes should not be confused with class methods.\\n \")\n",
    "\n",
    "print(\"BEHAVIOUR : \")\n",
    "print(\"A class's behavior determines how an instance of that class operates; for example, how it will 'react' if asked to do something by another class or object or if its internal state changes.\")\n",
    "print(\"Behavior is the only way objects can do anything to themselves or have anything done to them. \")"
   ]
  },
  {
   "cell_type": "code",
   "execution_count": 46,
   "metadata": {},
   "outputs": [
    {
     "name": "stdout",
     "output_type": "stream",
     "text": [
      "BEFORE EDIT : \n",
      "\n",
      "BRAND  :  Toyota\n",
      "NAME   :  Corolla Altis\n",
      "MODEL  :  2018\n",
      "COLOR  :  Black\n",
      "PRICE  :  2200000 Rs\n",
      "\n",
      "AFTER EDIT : \n",
      "\n",
      "BRAND  :  Suzuki\n",
      "NAME   :  Swift\n",
      "MODEL  :  2017\n",
      "COLOR  :  Blue\n",
      "PRICE  :  1500000 Rs\n"
     ]
    }
   ],
   "source": [
    "class Car:\n",
    "    def __init__(self,model,color,name,brand,price):\n",
    "        self.model=model\n",
    "        self.color=color\n",
    "        self.name=name\n",
    "        self.brand=brand\n",
    "        self.price=price\n",
    "    \n",
    "    def ShowInfo(self):\n",
    "        print(\"BRAND  : \",self.brand)\n",
    "        print(\"NAME   : \",self.name)\n",
    "        print(\"MODEL  : \",self.model)\n",
    "        print(\"COLOR  :\",self.color)\n",
    "        print(\"PRICE  : \",self.price)\n",
    "    \n",
    "    def EditName(self,name):\n",
    "        self.name=name\n",
    "    \n",
    "    def EditColor(self,color):\n",
    "        self.color=color\n",
    "        \n",
    "    def EditModel(self,model):\n",
    "        self.model=model\n",
    "    \n",
    "    def EditPrice(self,price):\n",
    "        self.price=price\n",
    "    \n",
    "    def EditBrand(self,brand):\n",
    "        self.brand=brand\n",
    "        \n",
    "print(\"BEFORE EDIT : \\n\")\n",
    "\n",
    "c1=Car(\"2018\",\" Black\",\"Corolla Altis\",\"Toyota\",\"2200000 Rs\")\n",
    "c1.ShowInfo()\n",
    "c1.EditName(\"Swift\")\n",
    "c1.EditColor(\" Blue\")\n",
    "c1.EditModel(\"2017\")\n",
    "c1.EditPrice(\"1500000 Rs\")\n",
    "c1.EditBrand(\"Suzuki\")\n",
    "\n",
    "print(\"\\nAFTER EDIT : \\n\")\n",
    "c1.ShowInfo()"
   ]
  },
  {
   "cell_type": "code",
   "execution_count": null,
   "metadata": {},
   "outputs": [],
   "source": []
  }
 ],
 "metadata": {
  "kernelspec": {
   "display_name": "Python 3",
   "language": "python",
   "name": "python3"
  },
  "language_info": {
   "codemirror_mode": {
    "name": "ipython",
    "version": 3
   },
   "file_extension": ".py",
   "mimetype": "text/x-python",
   "name": "python",
   "nbconvert_exporter": "python",
   "pygments_lexer": "ipython3",
   "version": "3.7.3"
  }
 },
 "nbformat": 4,
 "nbformat_minor": 2
}
