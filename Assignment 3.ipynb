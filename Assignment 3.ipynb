{
 "cells": [
  {
   "cell_type": "code",
   "execution_count": 3,
   "metadata": {},
   "outputs": [
    {
     "name": "stdout",
     "output_type": "stream",
     "text": [
      "Enter first number : 2\n",
      "Enter second number : 3\n",
      "Enter operator : +\n",
      "answer =  5\n"
     ]
    }
   ],
   "source": [
    "num1=int(input(\"Enter first number : \"))\n",
    "num2=int(input(\"Enter second number : \"))\n",
    "operator=input(\"Enter operator : \")\n",
    "\n",
    "if operator == '+':\n",
    "\tprint(\"answer = \" , num1 + num2)\n",
    "\n",
    "elif operator == '-':\n",
    "\tprint(\"answer = \" , num1 - num2)\n",
    "\n",
    "elif operator == '/':\n",
    "\tprint(\"answer = \" , num1 / num2)\n",
    "\n",
    "elif operator == '*':\n",
    "\tprint(\"answer = \" , num1 * num2)\n",
    "\n",
    "elif operator == '^':\n",
    "\tprint(\"answer = \" , num1 ** num2)\n",
    "\n"
   ]
  },
  {
   "cell_type": "code",
   "execution_count": 59,
   "metadata": {},
   "outputs": [
    {
     "name": "stdout",
     "output_type": "stream",
     "text": [
      "numeric value is present\n"
     ]
    }
   ],
   "source": [
    "list1=[133, 1, 2 ,\"abdul\"]\n",
    "for i in list1: \n",
    "    if i == 133 or i == 1 or i == 2:\n",
    "        print(\"numeric value is present\")\n",
    "        break\n",
    "    else:\n",
    "        print(\"numeric value is not present\")"
   ]
  },
  {
   "cell_type": "code",
   "execution_count": 60,
   "metadata": {},
   "outputs": [
    {
     "name": "stdout",
     "output_type": "stream",
     "text": [
      "{'firstname': 'Ali', 'lastname': 'Ahmed'}\n"
     ]
    }
   ],
   "source": [
    "customer = {\n",
    "    \"firstname\" : \"Ali\"\n",
    "}\n",
    "customer[\"lastname\"] = \"Ahmed\"\n",
    "print(customer)"
   ]
  },
  {
   "cell_type": "code",
   "execution_count": 21,
   "metadata": {},
   "outputs": [
    {
     "name": "stdout",
     "output_type": "stream",
     "text": [
      "15\n"
     ]
    }
   ],
   "source": [
    "product = {\n",
    "    \"val1\" : 1,\n",
    "    \"val2\" : 12,\n",
    "    \"val3\" : 2\n",
    "}\n",
    "print(sum('sum'product.values()))"
   ]
  },
  {
   "cell_type": "code",
   "execution_count": 110,
   "metadata": {},
   "outputs": [
    {
     "name": "stdout",
     "output_type": "stream",
     "text": [
      "list contain duplicate\n"
     ]
    }
   ],
   "source": [
    "list2=[10, 20, 30, 20, 50]\n",
    "if len(list2) == len(set(list2)):\n",
    "        print(\"list not duplicate\")\n",
    "else:\n",
    "        print(\"list contain duplicate\")"
   ]
  },
  {
   "cell_type": "code",
   "execution_count": 91,
   "metadata": {},
   "outputs": [
    {
     "name": "stdout",
     "output_type": "stream",
     "text": [
      "Already exist\n"
     ]
    }
   ],
   "source": [
    "product = {\n",
    "    \"name\" : \"Soap\"\n",
    "}\n",
    "if \"name\" in product:\n",
    "    print(\"Already exist\")\n",
    "else:\n",
    "    print(\"Not exist\")"
   ]
  },
  {
   "cell_type": "code",
   "execution_count": null,
   "metadata": {},
   "outputs": [],
   "source": []
  }
 ],
 "metadata": {
  "kernelspec": {
   "display_name": "Python 3",
   "language": "python",
   "name": "python3"
  },
  "language_info": {
   "codemirror_mode": {
    "name": "ipython",
    "version": 3
   },
   "file_extension": ".py",
   "mimetype": "text/x-python",
   "name": "python",
   "nbconvert_exporter": "python",
   "pygments_lexer": "ipython3",
   "version": "3.7.3"
  }
 },
 "nbformat": 4,
 "nbformat_minor": 2
}
